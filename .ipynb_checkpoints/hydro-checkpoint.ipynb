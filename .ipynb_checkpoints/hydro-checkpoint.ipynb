{
 "cells": [
  {
   "cell_type": "markdown",
   "metadata": {},
   "source": [
    "Date: 2020/10/15 <br/>\n",
    "Author: Kemeng Liu\n",
    "\n",
    "This script is to be submitted as final project for the course MET_Spatial_Python.\n",
    "\n",
    "The idea of this project is to go through a workflow of deriving stream/basin related morpological parameters/index from a Digital Elevation Model (DEM) by integrating needed tools into python, so that the whole workflow is executed in python.\n",
    "\n",
    "The Workflow is divided into three parts:\n",
    "1. The DEM was got using Google Earth Engine Python API; The Polygon of the basin was downloaded manually.\n",
    "\n",
    "2. The DEM was reprojected and clipped to the geometry of the basin.\n",
    "\n",
    "3. The morpological parameters was calculated by interacting with GRASS GIS.\n",
    "\n",
    "However, to make it possible automatizing this workflow, there are still some problems to be solved:\n",
    "* each of the three parts analysis was done in separate python environment in this project ~ they need to be united. \n",
    "\n",
    "* The geometry of basins could also be accessed via Earth Engine; but how to export it within python session still needs some exploring.\n",
    "\n",
    "* The GRASS Addon 'r.basin' is able to derived many advanced morporlogical parameters, but it's quite buggy...i'm still looking for solution.\n",
    "\n",
    "Outputs of Part-1 and Part-2 are located in the folder 'data', while a few outputs from 'r.basin' are located in the folder 'output'."
   ]
  },
  {
   "cell_type": "markdown",
   "metadata": {},
   "source": [
    "## Part_1. Get DEM using Earth Engine Python API"
   ]
  },
  {
   "cell_type": "code",
   "execution_count": 1,
   "metadata": {},
   "outputs": [],
   "source": [
    "import os\n",
    "import ee\n",
    "import numpy as np\n",
    "import matplotlib.pyplot as plt\n",
    "import gdal\n",
    "import osr\n",
    "import time"
   ]
  },
  {
   "cell_type": "code",
   "execution_count": 2,
   "metadata": {},
   "outputs": [
    {
     "data": {
      "text/plain": [
       "'C:\\\\EAGLE\\\\MET_Python\\\\final_project\\\\data'"
      ]
     },
     "execution_count": 2,
     "metadata": {},
     "output_type": "execute_result"
    }
   ],
   "source": [
    "os.chdir(\"C:/EAGLE/MET_Python/final_project/data\")\n",
    "os.getcwd()"
   ]
  },
  {
   "cell_type": "code",
   "execution_count": 3,
   "metadata": {},
   "outputs": [],
   "source": [
    "# Initialize earth engine api\n",
    "ee.Initialize()"
   ]
  },
  {
   "cell_type": "code",
   "execution_count": 39,
   "metadata": {},
   "outputs": [
    {
     "data": {
      "text/plain": [
       "<ee.image.Image at 0x1ba33ba1cc0>"
      ]
     },
     "execution_count": 39,
     "metadata": {},
     "output_type": "execute_result"
    }
   ],
   "source": [
    "# Load HydroSHEDS Hydrologically Conditioned DEM, 3 Arc-Seconds\n",
    "hydroDEM = ee.Image('WWF/HydroSHEDS/03CONDEM')\n",
    "hydroDEM"
   ]
  },
  {
   "cell_type": "code",
   "execution_count": 40,
   "metadata": {},
   "outputs": [],
   "source": [
    "# Define a bounding box of the basin of interest\n",
    "basin_bbox = ee.Geometry.Polygon(\n",
    "        [[[104.64983742110468, 18.085162799249574],\n",
    "          [104.64983742110468, 17.511144981641994],\n",
    "          [105.13735573165155, 17.511144981641994],\n",
    "          [105.13735573165155, 18.085162799249574],\n",
    "          [104.64983742110468, 18.085162799249574]]])\n",
    "\n",
    "#basin_bbox = ee.Geometry.Polygon(\n",
    "#          [[[104.64983742110468, 18.085162799249574],\n",
    "#          [104.64983742110468, 17.511144981641994],\n",
    "#          [105.13735573165155, 17.511144981641994],\n",
    "#          [105.13735573165155, 18.085162799249574],\n",
    "#          [104.64983742110468, 18.085162799249574]]])"
   ]
  },
  {
   "cell_type": "code",
   "execution_count": 41,
   "metadata": {},
   "outputs": [],
   "source": [
    "# Clip DEM with basin as mask\n",
    "hydroDEM_clip = hydroDEM.clip(basin_bbox).select(\"b1\")"
   ]
  },
  {
   "cell_type": "code",
   "execution_count": 42,
   "metadata": {},
   "outputs": [],
   "source": [
    "# Get the band Latitude and Longitude\n",
    "latlon = ee.Image.pixelLonLat().addBands(hydroDEM_clip)\n",
    "\n",
    "# Reduce the bands to list\n",
    "latlon = latlon.reduceRegion(reducer=ee.Reducer.toList(),\n",
    "                             geometry=basin_bbox,\n",
    "                             maxPixels=1e10,\n",
    "                             scale=90)"
   ]
  },
  {
   "cell_type": "code",
   "execution_count": 43,
   "metadata": {},
   "outputs": [],
   "source": [
    "# Convert the lists to numpy array\n",
    "elev = np.array((ee.Array(latlon.get(\"b1\")).getInfo()))\n",
    "lats = np.array((ee.Array(latlon.get(\"latitude\")).getInfo()))\n",
    "lons = np.array((ee.Array(latlon.get(\"longitude\")).getInfo()))"
   ]
  },
  {
   "cell_type": "code",
   "execution_count": 44,
   "metadata": {},
   "outputs": [
    {
     "name": "stdout",
     "output_type": "stream",
     "text": [
      "Pixels sizes are:  0.0008084837557085223 0.0008084837557049696\n",
      "Upper left origin is:  18.084568889544766 104.65054158066563\n",
      "nrow and ncol of the raster is:  710 603\n"
     ]
    }
   ],
   "source": [
    "uniqueLats = np.unique(lats)\n",
    "uniqueLons = np.unique(lons)\n",
    "\n",
    "# Determine pixelsizes\n",
    "ys = uniqueLats[1] - uniqueLats[0]\n",
    "xs = uniqueLons[1] - uniqueLons[0]\n",
    "\n",
    "# Determine Imgage Origin (Upper left)\n",
    "y0 = uniqueLats.max()\n",
    "x0 = uniqueLons.min()\n",
    "\n",
    "# Determine nrow and ncolumn\n",
    "nrows = len(uniqueLats)\n",
    "ncols = len(uniqueLons)\n",
    "\n",
    "print(\"Pixels sizes are: \", ys, xs)\n",
    "print(\"Upper left origin is: \", y0, x0)\n",
    "print(\"nrow and ncol of the raster is: \", nrows, ncols)"
   ]
  },
  {
   "cell_type": "code",
   "execution_count": 45,
   "metadata": {},
   "outputs": [],
   "source": [
    "# Create an array with dimension of the image\n",
    "arr = np.zeros([nrows, ncols], np.float32)"
   ]
  },
  {
   "cell_type": "code",
   "execution_count": 46,
   "metadata": {},
   "outputs": [
    {
     "ename": "IndexError",
     "evalue": "index 428125 is out of bounds for axis 0 with size 428125",
     "output_type": "error",
     "traceback": [
      "\u001b[1;31m---------------------------------------------------------------------------\u001b[0m",
      "\u001b[1;31mIndexError\u001b[0m                                Traceback (most recent call last)",
      "\u001b[1;32m<ipython-input-46-5acaeda925d0>\u001b[0m in \u001b[0;36m<module>\u001b[1;34m\u001b[0m\n\u001b[0;32m      6\u001b[0m             \u001b[0mcounter\u001b[0m\u001b[1;33m+=\u001b[0m\u001b[1;36m1\u001b[0m\u001b[1;33m\u001b[0m\u001b[1;33m\u001b[0m\u001b[0m\n\u001b[0;32m      7\u001b[0m             \u001b[1;31m# start from lower left corner\u001b[0m\u001b[1;33m\u001b[0m\u001b[1;33m\u001b[0m\u001b[1;33m\u001b[0m\u001b[0m\n\u001b[1;32m----> 8\u001b[1;33m             \u001b[0marr\u001b[0m\u001b[1;33m[\u001b[0m\u001b[0mlen\u001b[0m\u001b[1;33m(\u001b[0m\u001b[0muniqueLats\u001b[0m\u001b[1;33m)\u001b[0m\u001b[1;33m-\u001b[0m\u001b[1;36m1\u001b[0m\u001b[1;33m-\u001b[0m\u001b[0my\u001b[0m\u001b[1;33m,\u001b[0m\u001b[0mx\u001b[0m\u001b[1;33m]\u001b[0m \u001b[1;33m=\u001b[0m \u001b[0melev\u001b[0m\u001b[1;33m[\u001b[0m\u001b[0mcounter\u001b[0m\u001b[1;33m]\u001b[0m\u001b[1;33m\u001b[0m\u001b[1;33m\u001b[0m\u001b[0m\n\u001b[0m",
      "\u001b[1;31mIndexError\u001b[0m: index 428125 is out of bounds for axis 0 with size 428125"
     ]
    }
   ],
   "source": [
    "# Fill the array with values\n",
    "counter =0\n",
    "for y in range(0,len(arr),1):\n",
    "    for x in range(0,len(arr[0]),1):\n",
    "        if lats[counter] == uniqueLats[y] and lons[counter] == uniqueLons[x] and counter < len(lats)-1:\n",
    "            counter+=1\n",
    "            # start from lower left corner\n",
    "            arr[len(uniqueLats)-1-y,x] = elev[counter] "
   ]
  },
  {
   "cell_type": "code",
   "execution_count": 47,
   "metadata": {},
   "outputs": [
    {
     "data": {
      "image/png": "[encoded data removed]",
      "text/plain": [
       "<Figure size 432x288 with 1 Axes>"
      ]
     },
     "metadata": {
      "needs_background": "light"
     },
     "output_type": "display_data"
    }
   ],
   "source": [
    "# Plot the image\n",
    "plt.imshow(arr)\n",
    "plt.show()"
   ]
  },
  {
   "cell_type": "code",
   "execution_count": 48,
   "metadata": {},
   "outputs": [],
   "source": [
    "# Set Transformer\n",
    "# ((oringinX, pixelWidth, 0, originY, 0, pixelHeight))\n",
    "transform = (x0, xs, 0, y0, 0, -ys)"
   ]
  },
  {
   "cell_type": "code",
   "execution_count": 49,
   "metadata": {},
   "outputs": [
    {
     "data": {
      "text/plain": [
       "0"
      ]
     },
     "execution_count": 49,
     "metadata": {},
     "output_type": "execute_result"
    }
   ],
   "source": [
    "# Set the Coordinate System\n",
    "target = osr.SpatialReference()\n",
    "target.ImportFromEPSG(4326)"
   ]
  },
  {
   "cell_type": "code",
   "execution_count": 50,
   "metadata": {},
   "outputs": [],
   "source": [
    "# Set driver\n",
    "driver = gdal.GetDriverByName('GTiff')\n",
    "\n",
    "timestring = time.strftime(\"%Y%m%d_%H%M%S\")\n",
    "\n",
    "output = driver.Create(\"hydroDEM.tif\", ncols, nrows, 1, gdal.GDT_Float32)"
   ]
  },
  {
   "cell_type": "code",
   "execution_count": 51,
   "metadata": {},
   "outputs": [],
   "source": [
    "# Add some metadata\n",
    "output.SetMetadata({'time': str(timestring)})\n",
    "output.SetGeoTransform(transform)\n",
    "output.SetProjection(target.ExportToWkt())\n",
    "output.GetRasterBand(1).WriteArray(arr)\n",
    "output.GetRasterBand(1).SetNoDataValue(-9999)\n",
    "output = None"
   ]
  },
  {
   "cell_type": "markdown",
   "metadata": {},
   "source": [
    "## Part_2. Pre-process DEM (reproject & masked to basin)"
   ]
  },
  {
   "cell_type": "code",
   "execution_count": 1,
   "metadata": {},
   "outputs": [],
   "source": [
    "import os\n",
    "import numpy as np\n",
    "import geopandas as gpd\n",
    "import rasterio\n",
    "\n",
    "from rasterio.plot import show, plotting_extent\n",
    "from rasterio.mask import mask\n",
    "from rasterio.merge import merge"
   ]
  },
  {
   "cell_type": "code",
   "execution_count": 2,
   "metadata": {},
   "outputs": [
    {
     "data": {
      "text/plain": [
       "'C:\\\\EAGLE\\\\MET_Python\\\\final_project\\\\data'"
      ]
     },
     "execution_count": 2,
     "metadata": {},
     "output_type": "execute_result"
    }
   ],
   "source": [
    "os.chdir('C:/EAGLE/MET_Python/final_project/data')\n",
    "os.getcwd()"
   ]
  },
  {
   "cell_type": "markdown",
   "metadata": {},
   "source": [
    "### Reproject DEM"
   ]
  },
  {
   "cell_type": "code",
   "execution_count": 4,
   "metadata": {},
   "outputs": [
    {
     "name": "stdout",
     "output_type": "stream",
     "text": [
      "{'driver': 'GTiff', 'dtype': 'float32', 'nodata': -9999.0, 'width': 603, 'height': 710, 'count': 1, 'crs': CRS.from_epsg(4326), 'transform': Affine(0.0008084837557049696, 0.0, 104.65054158066563,\n",
      "       0.0, -0.0008084837557085223, 18.084568889544766)}\n"
     ]
    }
   ],
   "source": [
    "path_dem = os.path.join(os.getcwd(), 'hydroDEM.tif')\n",
    "\n",
    "hydroDEM = rasterio.open(path_dem)\n",
    "\n",
    "print(hydroDEM.meta)"
   ]
  },
  {
   "cell_type": "code",
   "execution_count": 9,
   "metadata": {},
   "outputs": [],
   "source": [
    "# Define function to reproject Raster\n",
    "def reproject_raster(in_path, out_path, dst_crs):\n",
    "    \n",
    "    with rasterio.open(path_dem) as src:\n",
    "        transform, width, height = rasterio.warp.calculate_default_transform(\n",
    "            src.crs, dst_crs, src.width, src.height, *src.bounds)\n",
    "        kwargs = src.meta.copy()\n",
    "        kwargs.update({\n",
    "            'crs': dst_crs,\n",
    "            'transform': transform,\n",
    "            'width': width,\n",
    "            'height': height\n",
    "        })\n",
    "    \n",
    "        with rasterio.open(path_dem_prj, 'w', **kwargs) as dst:\n",
    "            for i in range(1, src.count + 1):\n",
    "                rasterio.warp.reproject(\n",
    "                    source = rasterio.band(src, i),\n",
    "                    destination = rasterio.band(dst, i),\n",
    "                    src_transform = src.transform,\n",
    "                    src_crs = src.crs,\n",
    "                    dst_transform = transform,\n",
    "                    dst_crs = dst_crs,\n",
    "                    resampling = rasterio.warp.Resampling.nearest)\n",
    "    return(out_path)"
   ]
  },
  {
   "cell_type": "code",
   "execution_count": 10,
   "metadata": {},
   "outputs": [
    {
     "data": {
      "text/plain": [
       "'C:\\\\EAGLE\\\\MET_Python\\\\final_project\\\\data\\\\hydroDEM_prj.tif'"
      ]
     },
     "execution_count": 10,
     "metadata": {},
     "output_type": "execute_result"
    }
   ],
   "source": [
    "# WGS 84 / UTM zone 48N\n",
    "dst_crs = 'EPSG:32648'\n",
    "\n",
    "path_dem = os.path.join(os.getcwd(), 'hydroDEM.tif')\n",
    "path_dem_prj = os.path.join(os.getcwd(), 'hydroDEM_prj.tif')\n",
    "\n",
    "# Reproject\n",
    "reproject_raster(path_dem, path_dem_prj, dst_crs)"
   ]
  },
  {
   "cell_type": "code",
   "execution_count": 11,
   "metadata": {},
   "outputs": [
    {
     "name": "stdout",
     "output_type": "stream",
     "text": [
      "{'driver': 'GTiff', 'dtype': 'float32', 'nodata': -9999.0, 'width': 589, 'height': 723, 'count': 1, 'crs': CRS.from_epsg(32648), 'transform': Affine(87.88967373508459, 0.0, 462904.50956110685,\n",
      "       0.0, -87.88967373508459, 1999576.9614275643)}\n"
     ]
    }
   ],
   "source": [
    "path_dem_prj = os.path.join(os.getcwd(), 'hydroDEM_prj.tif')\n",
    "hydroDEM_prj = rasterio.open(path_dem_prj)\n",
    "print(hydroDEM_prj.meta)"
   ]
  },
  {
   "cell_type": "markdown",
   "metadata": {},
   "source": [
    "### Reproject Basin Polygon"
   ]
  },
  {
   "cell_type": "code",
   "execution_count": 12,
   "metadata": {},
   "outputs": [],
   "source": [
    "# Import Vector\n",
    "path_basin = os.path.join(os.getcwd(), 'basin.geojson')\n",
    "\n",
    "basin = gpd.read_file(path_basin)"
   ]
  },
  {
   "cell_type": "code",
   "execution_count": 14,
   "metadata": {},
   "outputs": [
    {
     "data": {
      "text/plain": [
       "<Geographic 2D CRS: EPSG:4326>\n",
       "Name: WGS 84\n",
       "Axis Info [ellipsoidal]:\n",
       "- Lat[north]: Geodetic latitude (degree)\n",
       "- Lon[east]: Geodetic longitude (degree)\n",
       "Area of Use:\n",
       "- name: World\n",
       "- bounds: (-180.0, -90.0, 180.0, 90.0)\n",
       "Datum: World Geodetic System 1984\n",
       "- Ellipsoid: WGS 84\n",
       "- Prime Meridian: Greenwich"
      ]
     },
     "execution_count": 14,
     "metadata": {},
     "output_type": "execute_result"
    }
   ],
   "source": [
    "basin.crs"
   ]
  },
  {
   "cell_type": "code",
   "execution_count": 16,
   "metadata": {},
   "outputs": [
    {
     "data": {
      "text/plain": [
       "<Projected CRS: EPSG:32648>\n",
       "Name: WGS 84 / UTM zone 48N\n",
       "Axis Info [cartesian]:\n",
       "- [east]: Easting (metre)\n",
       "- [north]: Northing (metre)\n",
       "Area of Use:\n",
       "- undefined\n",
       "Coordinate Operation:\n",
       "- name: UTM zone 48N\n",
       "- method: Transverse Mercator\n",
       "Datum: World Geodetic System 1984\n",
       "- Ellipsoid: WGS 84\n",
       "- Prime Meridian: Greenwich"
      ]
     },
     "execution_count": 16,
     "metadata": {},
     "output_type": "execute_result"
    }
   ],
   "source": [
    "# Reproject to WGS 84 / UTM zone 48N\n",
    "basin_prj = basin.to_crs(hydroDEM_prj.crs)\n",
    "\n",
    "basin_prj.crs"
   ]
  },
  {
   "cell_type": "code",
   "execution_count": 17,
   "metadata": {},
   "outputs": [],
   "source": [
    "# Write Vector\n",
    "basin_prj.to_file(\"basin_prj.shp\")"
   ]
  },
  {
   "cell_type": "code",
   "execution_count": 18,
   "metadata": {},
   "outputs": [],
   "source": [
    "# Convert Geometry of the 'shp' into JSON Format, \n",
    "# so that rasterio can read it\n",
    "def getFeatures(gdf):\n",
    "    import json\n",
    "    return [json.loads(gdf.to_json())['features'][0]['geometry']]"
   ]
  },
  {
   "cell_type": "code",
   "execution_count": 20,
   "metadata": {},
   "outputs": [],
   "source": [
    "coords = getFeatures(basin_prj)\n",
    "#print(coords)"
   ]
  },
  {
   "cell_type": "markdown",
   "metadata": {},
   "source": [
    "### Mask DEM by Basin"
   ]
  },
  {
   "cell_type": "code",
   "execution_count": 21,
   "metadata": {},
   "outputs": [],
   "source": [
    "# Load DEM\n",
    "path_dem_prj = os.path.join(os.getcwd(),'hydroDEM_prj.tif')\n",
    "hydroDEM_prj = rasterio.open(path_dem_prj)"
   ]
  },
  {
   "cell_type": "code",
   "execution_count": 22,
   "metadata": {},
   "outputs": [
    {
     "name": "stdout",
     "output_type": "stream",
     "text": [
      "Raster Bounds is  BoundingBox(left=462904.50956110685, bottom=1936032.727317098, right=514671.52739107166, top=1999576.9614275643) \n",
      "\n",
      "Pixel resolution is  (87.88967373508459, 87.88967373508459)\n"
     ]
    }
   ],
   "source": [
    "print('Raster Bounds is ', hydroDEM_prj.bounds, '\\n')\n",
    "print('Pixel resolution is ', hydroDEM_prj.res)"
   ]
  },
  {
   "cell_type": "code",
   "execution_count": 24,
   "metadata": {},
   "outputs": [
    {
     "data": {
      "image/png": "[encoded data removed]",
      "text/plain": [
       "<Figure size 432x288 with 1 Axes>"
      ]
     },
     "metadata": {},
     "output_type": "display_data"
    },
    {
     "data": {
      "text/plain": [
       "<AxesSubplot:>"
      ]
     },
     "execution_count": 24,
     "metadata": {},
     "output_type": "execute_result"
    }
   ],
   "source": [
    "show(hydroDEM_prj, cmap=\"terrain\", transform=hydroDEM_prj.transform)"
   ]
  },
  {
   "cell_type": "code",
   "execution_count": 25,
   "metadata": {},
   "outputs": [],
   "source": [
    "# Clip Raster with Vector Mask\n",
    "out_img, out_transform = mask(dataset=hydroDEM_prj, shapes=coords, crop=True)"
   ]
  },
  {
   "cell_type": "code",
   "execution_count": 28,
   "metadata": {},
   "outputs": [
    {
     "data": {
      "text/plain": [
       "numpy.ma.core.MaskedArray"
      ]
     },
     "execution_count": 28,
     "metadata": {},
     "output_type": "execute_result"
    }
   ],
   "source": [
    "hydroDEM_clip = np.ma.masked_array(out_img, mask=(out_img <= 0))\n",
    "type(hydroDEM_clip)"
   ]
  },
  {
   "cell_type": "code",
   "execution_count": 29,
   "metadata": {},
   "outputs": [
    {
     "data": {
      "image/png": "[encoded data removed]",
      "text/plain": [
       "<Figure size 432x288 with 1 Axes>"
      ]
     },
     "metadata": {},
     "output_type": "display_data"
    },
    {
     "data": {
      "text/plain": [
       "<AxesSubplot:>"
      ]
     },
     "execution_count": 29,
     "metadata": {},
     "output_type": "execute_result"
    }
   ],
   "source": [
    "show(hydroDEM_clip, cmap=\"terrain\", transform=out_transform)"
   ]
  },
  {
   "cell_type": "code",
   "execution_count": 30,
   "metadata": {},
   "outputs": [
    {
     "data": {
      "text/plain": [
       "(1, 699, 558)"
      ]
     },
     "execution_count": 30,
     "metadata": {},
     "output_type": "execute_result"
    }
   ],
   "source": [
    "hydroDEM_clip.shape"
   ]
  },
  {
   "cell_type": "markdown",
   "metadata": {},
   "source": [
    "### Export masked DEM"
   ]
  },
  {
   "cell_type": "code",
   "execution_count": 31,
   "metadata": {},
   "outputs": [
    {
     "name": "stdout",
     "output_type": "stream",
     "text": [
      "{'driver': 'GTiff', 'dtype': 'float32', 'nodata': -9999.0, 'width': 589, 'height': 723, 'count': 1, 'crs': CRS.from_epsg(32648), 'transform': Affine(87.88967373508459, 0.0, 462904.50956110685,\n",
      "       0.0, -87.88967373508459, 1999576.9614275643)}\n"
     ]
    }
   ],
   "source": [
    "# Copy Metadata of oringinal Raster\n",
    "out_meta = hydroDEM_prj.meta.copy()\n",
    "print(out_meta)"
   ]
  },
  {
   "cell_type": "code",
   "execution_count": 32,
   "metadata": {},
   "outputs": [],
   "source": [
    "out_meta.update({\n",
    "    \"driver\": \"GTiff\",\n",
    "    \"count\": hydroDEM_clip.shape[0],\n",
    "    \"height\": hydroDEM_clip.shape[1],\n",
    "    \"width\": hydroDEM_clip.shape[2],\n",
    "    \"transform\": out_transform,\n",
    "    \"crs\": hydroDEM_prj.crs\n",
    "})"
   ]
  },
  {
   "cell_type": "code",
   "execution_count": 33,
   "metadata": {},
   "outputs": [],
   "source": [
    "# Write Cliped Raster to Disk\n",
    "with rasterio.open(\"hydroDEM_clip.tif\", \"w\", **out_meta) as dest:\n",
    "    dest.write(hydroDEM_clip)"
   ]
  },
  {
   "cell_type": "markdown",
   "metadata": {},
   "source": [
    "## Part_3. Calculate Some Morphological Parameters of the Basin using GRASS GIS"
   ]
  },
  {
   "cell_type": "code",
   "execution_count": 1,
   "metadata": {},
   "outputs": [],
   "source": [
    "import os\n",
    "import sys\n",
    "import subprocess\n",
    "import shutil\n",
    "import binascii\n",
    "import tempfile\n",
    "\n",
    "from grass_session import Session\n",
    "import grass.script as gs\n",
    "import grass.script.setup as gsetup\n",
    "\n",
    "import numpy as np\n",
    "import matplotlib\n",
    "import wx"
   ]
  },
  {
   "cell_type": "code",
   "execution_count": 12,
   "metadata": {},
   "outputs": [
    {
     "data": {
      "text/plain": [
       "'/home/shirobakaidou/eagle/MET_Spatial_Python/grass'"
      ]
     },
     "execution_count": 12,
     "metadata": {},
     "output_type": "execute_result"
    }
   ],
   "source": [
    "os.chdir('/home/shirobakaidou/eagle/MET_Spatial_Python/grass')\n",
    "os.getcwd()"
   ]
  },
  {
   "cell_type": "code",
   "execution_count": 21,
   "metadata": {},
   "outputs": [
    {
     "name": "stdout",
     "output_type": "stream",
     "text": [
      "{'GISDBASE': '/home/shirobakaidou/eagle/MET_Spatial_Python/grass', 'LOCATION_NAME': 'mylocation', 'MAPSET': 'PERMANENT'}\n"
     ]
    }
   ],
   "source": [
    "# Define GRASS Database\n",
    "dbase = os.getcwd()\n",
    "location = 'mylocation'\n",
    "\n",
    "# Set GISBASE environment variable\n",
    "gisbase = '/usr/lib/grass78'\n",
    "os.environ['GISBASE'] = str(gisbase)\n",
    "\n",
    "# Initialize\n",
    "gsetup.init(os.environ['GISBASE'], dbase, location, 'PERMANENT')\n",
    "\n",
    "print(gs.gisenv())"
   ]
  },
  {
   "cell_type": "code",
   "execution_count": 25,
   "metadata": {},
   "outputs": [],
   "source": [
    "# Create Location\n",
    "gs.create_location(dbase, location)"
   ]
  },
  {
   "cell_type": "code",
   "execution_count": 27,
   "metadata": {},
   "outputs": [
    {
     "name": "stderr",
     "output_type": "stream",
     "text": [
      "Location <location_vietnam> created\n",
      "You can switch to the new location by\n",
      "`g.mapset mapset=PERMANENT location=location_vietnam`\n"
     ]
    },
    {
     "data": {
      "text/plain": [
       "0"
      ]
     },
     "execution_count": 27,
     "metadata": {},
     "output_type": "execute_result"
    }
   ],
   "source": [
    "# Create a new location, using a georeferenced file\n",
    "gs.run_command('g.proj', flags=\"c\",\n",
    "               georef=\"/home/shirobakaidou/eagle/MET_Spatial_Python/data/hydroDEM_clip.tif\",\n",
    "               location=\"location_vietnam\")"
   ]
  },
  {
   "cell_type": "code",
   "execution_count": 28,
   "metadata": {},
   "outputs": [
    {
     "name": "stderr",
     "output_type": "stream",
     "text": [
      "Mapset switched. Your shell continues to use the history for the old mapset\n",
      "You can switch the history by commands:\n",
      "history -w; history -r\n",
      "/home/shirobakaidou/eagle/MET_Spatial_Python/grass/location_vietnam/PERMANENT/.bash_history;\n",
      "HISTFILE=/home/shirobakaidou/eagle/MET_Spatial_Python/grass/location_vietnam/PERMANENT/.bash_history\n"
     ]
    },
    {
     "data": {
      "text/plain": [
       "0"
      ]
     },
     "execution_count": 28,
     "metadata": {},
     "output_type": "execute_result"
    }
   ],
   "source": [
    "# Switch to the location_vietnam, mapset \"PERMANENT\"\n",
    "gs.run_command('g.mapset', \n",
    "               location=\"location_vietnam\",\n",
    "               mapset=\"PERMANENT\")"
   ]
  },
  {
   "cell_type": "code",
   "execution_count": 30,
   "metadata": {},
   "outputs": [
    {
     "name": "stdout",
     "output_type": "stream",
     "text": [
      "-PROJ_INFO-------------------------------------------------\n",
      "name       : WGS 84 / UTM zone 48N\n",
      "datum      : wgs84\n",
      "ellps      : wgs84\n",
      "proj       : utm\n",
      "zone       : 48\n",
      "no_defs    : defined\n",
      "-PROJ_EPSG-------------------------------------------------\n",
      "epsg       : 32648\n",
      "-PROJ_UNITS------------------------------------------------\n",
      "unit       : meter\n",
      "units      : meters\n",
      "meters     : 1\n"
     ]
    },
    {
     "data": {
      "text/plain": [
       "0"
      ]
     },
     "execution_count": 30,
     "metadata": {},
     "output_type": "execute_result"
    }
   ],
   "source": [
    "# Display CRS Info\n",
    "gs.run_command('g.proj', flags=\"p\")"
   ]
  },
  {
   "cell_type": "code",
   "execution_count": 46,
   "metadata": {},
   "outputs": [
    {
     "name": "stderr",
     "output_type": "stream",
     "text": [
      "Importing raster map <elevation>...\n",
      "   0   3   6   9  12  15  18  21  24  27  30  33  36  39  42  45  48  51  54  57  60  63  66  69  72  75  78  81  84  87  90  93  96  99 100\n"
     ]
    },
    {
     "data": {
      "text/plain": [
       "0"
      ]
     },
     "execution_count": 46,
     "metadata": {},
     "output_type": "execute_result"
    }
   ],
   "source": [
    "# Read GeoTiFF as GRASS Raster (Import Raster)\n",
    "gs.run_command('r.in.gdal', \n",
    "               #flags='e', # update the default region\n",
    "               input='/home/shirobakaidou/eagle/MET_Spatial_Python/data/hydroDEM_clip.tif',\n",
    "               output='elevation', \n",
    "               overwrite=True)"
   ]
  },
  {
   "cell_type": "code",
   "execution_count": 48,
   "metadata": {},
   "outputs": [
    {
     "name": "stdout",
     "output_type": "stream",
     "text": [
      "projection: 1 (UTM)\n",
      "zone:       48\n",
      "datum:      wgs84\n",
      "ellipsoid:  wgs84\n",
      "north:      1998522.28534274\n",
      "south:      1937087.40340192\n",
      "west:       464222.85466713\n",
      "east:       513265.29261131\n",
      "nsres:      87.88967374\n",
      "ewres:      87.88967374\n",
      "rows:       699\n",
      "cols:       558\n",
      "cells:      390042\n"
     ]
    },
    {
     "data": {
      "text/plain": [
       "0"
      ]
     },
     "execution_count": 48,
     "metadata": {},
     "output_type": "execute_result"
    }
   ],
   "source": [
    "# Set Region\n",
    "gs.run_command('g.region', \n",
    "               flags=\"pa\",\n",
    "               raster='elevation')"
   ]
  },
  {
   "cell_type": "code",
   "execution_count": 44,
   "metadata": {},
   "outputs": [],
   "source": [
    "# Install hydrology related GRASS Addons\n",
    "\n",
    "#gs.run_command('g.extension', extension='r.basin', operation='add')\n",
    "#gs.run_command('g.extension', extension='r.hypso', operation='add')\n",
    "#gs.run_command('g.extension', extension='r.stream.basins', operation='add')\n",
    "#gs.run_command('g.extension', extension='r.stream.distance', operation='add')\n",
    "#gs.run_command('g.extension', extension='r.stream.order', operation='add')\n",
    "#gs.run_command('g.extension', extension='r.stream.snap', operation='add')\n",
    "#gs.run_command('g.extension', extension='r.stream.stats', operation='add')\n",
    "#gs.run_command('g.extension', extension='r.width.funct', operation='add')\n",
    "#gs.run_command('g.extension', extension='r.stream.channel', operation='add')\n",
    "#gs.run_command('g.extension', extension='r.stream.segment', operation='add')\n",
    "#gs.run_command('g.extension', extension='r.stream.slope', operation='add')"
   ]
  },
  {
   "cell_type": "code",
   "execution_count": 40,
   "metadata": {},
   "outputs": [
    {
     "name": "stderr",
     "output_type": "stream",
     "text": [
      "threshold : 129.45662942175616\n"
     ]
    }
   ],
   "source": [
    "# Define Threshold:\n",
    "# source: https://github.com/OSGeo/grass-addons/blob/master/grass7/raster/r.basin/r.basin.py\n",
    "resolution = gs.region()['nsres']\n",
    "th = 1000000 / (resolution**2)\n",
    "gs.message( \"threshold : %s\" % th )"
   ]
  },
  {
   "cell_type": "code",
   "execution_count": 49,
   "metadata": {},
   "outputs": [
    {
     "name": "stderr",
     "output_type": "stream",
     "text": [
      "SECTION 1a (of 5): Initiating Memory.\n",
      "SECTION 1b (of 5): Determining Offmap Flow.\n",
      "   0   4   8  12  16  20  24  28  32  36  40  44  48  52  56  60  64  68  72  76  80  84  88  92  96 100\n",
      "SECTION 2: A* Search.\n",
      "   0   2   4   6   8  10  12  14  16  18  20  22  24  26  28  30  32  34  36  38  40  42  44  46  48  50  52  54  56  58  60  62  64  66  68  70  72  74  76  78  80  82  84  86  88  90  92  94  96  98 100\n",
      "SECTION 3a: Accumulating Surface Flow with MFD.\n",
      "   1   3   5   7   9  11  13  15  17  19  21  23  25  27  29  31  33  35  37  39  41  43  45  47  49  51  53  55  57  59  61  63  65  67  69  71  73  75  77  79  81  83  85  87  89  91  93  95  97  99 100\n",
      "SECTION 3b: Adjusting drainage directions.\n",
      "   1   3   5   7   9  11  13  15  17  19  21  23  25  27  29  31  33  35  37  39  41  43  45  47  49  51  53  55  57  59  61  63  65  67  69  71  73  75  77  79  81  83  85  87  89  91  93  95  97  99 100\n",
      "SECTION 4: Watershed determination.\n",
      "   0   2   4   6   8  10  12  14  16  18  20  22  24  26  28  30  32  34  36  38  40  42  44  46  48  50  52  54  56  58  60  62  64  66  68  70  72  74  76  78  80  82  84  86  88  90  92  94  96  98 100\n",
      "SECTION 5: Closing Maps.\n",
      "  68 100\n"
     ]
    },
    {
     "data": {
      "text/plain": [
       "0"
      ]
     },
     "execution_count": 49,
     "metadata": {},
     "output_type": "execute_result"
    }
   ],
   "source": [
    "# Calculates raster map of accumulation, flow direction, stream network and basin.\n",
    "gs.run_command('r.watershed',\n",
    "               elevation='elevation',\n",
    "               accumulation='accum', # output accumulation (raster)\n",
    "               drainage='direction', # output flow direction (raster)\n",
    "               stream='streams',  # output stream segments/network (raster)\n",
    "               basin='basin', # output basin (raster)\n",
    "               threshold=th,\n",
    "               overwrite=True)"
   ]
  },
  {
   "cell_type": "code",
   "execution_count": 50,
   "metadata": {},
   "outputs": [
    {
     "name": "stderr",
     "output_type": "stream",
     "text": [
      "Memory swap calculation (may take some time)...\n",
      "Reading raster map <streams>...\n",
      "   0   3   6   9  12  15  18  21  24  27  30  33  36  39  42  45  48  51  54  57  60  63  66  69  72  75  78  81  84  87  90  93  96  99 100\n",
      "Reading raster map <direction>...\n",
      "   0   3   6   9  12  15  18  21  24  27  30  33  36  39  42  45  48  51  54  57  60  63  66  69  72  75  78  81  84  87  90  93  96  99 100\n",
      "Finding nodes...\n",
      "   0   3   6   9  12  15  18  21  24  27  30  33  36  39  42  45  48  51  54  57  60  63  66  69  72  75  78  81  84  87  90  93  96  99 100\n",
      "Finding longest streams...\n",
      "   0   3   6   9  12  15  18  21  24  27  30  33  36  39  42  45  48  51  54  57  60  63  66  69  72  75  78  81  84  87  90  93  96  99 100\n",
      "Calculating Strahler's stream order...\n",
      "Calculating Hortons's stream order...\n"
     ]
    },
    {
     "data": {
      "text/plain": [
       "0"
      ]
     },
     "execution_count": 50,
     "metadata": {},
     "output_type": "execute_result"
    }
   ],
   "source": [
    "# Calculates Strahler's and Horton's hierarchy\n",
    "gs.run_command('r.stream.order',\n",
    "               stream_rast='streams', # input\n",
    "               direction='direction', # input\n",
    "               strahler='riveroder_strahler', # output Strahler's stream order\n",
    "               horton='riverorder_horton', # output Horton's stream order\n",
    "               overwrite=True)"
   ]
  },
  {
   "cell_type": "code",
   "execution_count": 51,
   "metadata": {},
   "outputs": [
    {
     "name": "stdout",
     "output_type": "stream",
     "text": [
      "\n",
      "Summary:\n",
      "Max order | Tot.N.str. | Tot.str.len. | Tot.area. | Dr.dens. | Str.freq. \n",
      "  (num)   |    (num)   |     (km)     |   (km2)   | (km/km2) | (num/km2) \n",
      "        5 |        250 |     694.2331 | 1160.9216 |   0.5980 |  0.2153 \n",
      "\n",
      "Stream ratios based on regression coefficient:\n",
      " Bif.rt. | Len.rt. | Area.rt. | Slo.rt. | Grd.rt. \n",
      "  3.3872 |  2.4665 |   3.6855 |  1.7301 |  1.7977\n",
      "\n",
      "Averaged stream ratios with standard deviations:\n",
      " Bif.rt. | Len.rt. | Area.rt. | Slo.rt. | Grd.rt. \n",
      "  3.7848 |  2.6789 |   2.8526 |  1.7186 |  1.8166\n",
      "  2.2647 |  0.8450 |   2.0084 |  0.2522 |  0.4176\n",
      "\n",
      "Order | Avg.len |  Avg.ar  |  Avg.sl |  Avg.grad. | Avg.el.dif\n",
      " num  |   (km)  |  (km2)   |  (m/m)  |    (m/m)   |     (m)   \n",
      "    1 |  1.1575 |   2.5532 |  0.0780 |     0.0654 | 83.6755\n",
      "    2 |  4.0625 |   9.8660 |  0.0490 |     0.0485 | 184.4444\n",
      "    3 | 12.1303 |  45.0130 |  0.0307 |     0.0306 | 338.6923\n",
      "    4 | 18.3672 | 134.3075 |  0.0146 |     0.0138 | 288.5000\n",
      "    5 | 49.6965 | 470.5553 |  0.0092 |     0.0065 | 246.0000\n",
      "\n",
      "Order | Std.len |  Std.ar  |  Std.sl |  Std.grad. | Std.el.dif\n",
      " num  |   (km)  |  (km2)   |  (m/m)  |    (m/m)   |     (m)   \n",
      "    1 |  1.0013 |   1.7942 |  0.0964 |     0.0789 | 109.1224\n",
      "    2 |  2.6798 |   8.8644 |  0.0535 |     0.0550 | 179.6641\n",
      "    3 |  4.6846 |  32.9506 |  0.0144 |     0.0154 | 126.0928\n",
      "    4 |  8.0222 |  78.0208 |  0.0086 |     0.0086 | 269.4077\n",
      "    5 | 32.7985 | 330.7364 |  0.0046 |     0.0048 | 22.6274\n",
      "\n",
      "Order | N.streams | Tot.len (km) | Tot.area (km2)\n",
      "    1 |       188 |     217.6013 | 480.0063\n",
      "    2 |        45 |     182.8104 | 443.9711\n",
      "    3 |        13 |     157.6941 | 585.1690\n",
      "    4 |         2 |      36.7345 | 268.6151\n",
      "    5 |         2 |      99.3929 | 941.1106\n",
      "\n",
      "Order | Bif.rt. | Len.rt. | Area.rt. | Slo.rt. | Grd.rt. | d.dens. | str.freq.\n",
      "    1 |  4.1778 |  3.5098 |   0.0000 |  1.5915 |  1.3486 |  0.4533 |  0.3917\n",
      "    2 |  3.4615 |  2.9860 |   3.8641 |  1.5974 |  1.5838 |  0.4118 |  0.1014\n",
      "    3 |  6.5000 |  1.5142 |   4.5624 |  2.0968 |  2.2141 |  0.2695 |  0.0222\n",
      "    4 |  1.0000 |  2.7057 |   2.9838 |  1.5886 |  2.1199 |  0.1368 |  0.0074\n",
      "    5 |  0.0000 |  0.0000 |   3.5036 |  0.0000 |  0.0000 |  0.1056 |  0.0021\n"
     ]
    },
    {
     "name": "stderr",
     "output_type": "stream",
     "text": [
      "Memory swap calculation (may take some time)...\n",
      "Reading raster map <riverorder_horton>...\n",
      "   0   3   6   9  12  15  18  21  24  27  30  33  36  39  42  45  48  51  54  57  60  63  66  69  72  75  78  81  84  87  90  93  96  99 100\n",
      "Reading raster map <direction>...\n",
      "   0   3   6   9  12  15  18  21  24  27  30  33  36  39  42  45  48  51  54  57  60  63  66  69  72  75  78  81  84  87  90  93  96  99 100\n",
      "Reading raster map <elevation>...\n",
      "   0   3   6   9  12  15  18  21  24  27  30  33  36  39  42  45  48  51  54  57  60  63  66  69  72  75  78  81  84  87  90  93  96  99 100\n"
     ]
    },
    {
     "data": {
      "text/plain": [
       "0"
      ]
     },
     "execution_count": 51,
     "metadata": {},
     "output_type": "execute_result"
    }
   ],
   "source": [
    "# Calculates Horton's statistics for Strahler and Horton ordered stream networks\n",
    "gs.run_command('r.stream.stats',\n",
    "               stream_rast='riverorder_horton',\n",
    "               direction='direction',\n",
    "               elevation='elevation')"
   ]
  },
  {
   "cell_type": "code",
   "execution_count": 52,
   "metadata": {},
   "outputs": [
    {
     "name": "stderr",
     "output_type": "stream",
     "text": [
      "SECTION 1 beginning: Initiating Variables. 4 sections total.\n",
      "SECTION 1a: Mark masked and NULL cells\n",
      "   0   2   4   6   8  10  12  14  16  18  20  22  24  26  28  30  32  34  36  38  40  42  44  46  48  50  52  54  56  58  60  62  64  66  68  70  72  74  76  78  80  82  84  86  88  90  92  94  96  98 100\n",
      "SECTION 1b: Determining Offmap Flow.\n",
      "   0   2   4   6   8  10  12  14  16  18  20  22  24  26  28  30  32  34  36  38  40  42  44  46  48  50  52  54  56  58  60  62  64  66  68  70  72  74  76  78  80  82  84  86  88  90  92  94  96  98 100\n",
      "SECTION 2: A* Search.\n",
      "   0   2   4   6   8  10  12  14  16  18  20  22  24  26  28  30  32  34  36  38  40  42  44  46  48  50  52  54  56  58  60  62  64  66  68  70  72  74  76  78  80  82  84  86  88  90  92  94  96  98 100\n",
      "SECTION 3a: Accumulating Surface Flow with MFD.\n",
      "   0   2   4   6   8  10  12  14  16  18  20  22  24  26  28  30  32  34  36  38  40  42  44  46  48  50  52  54  56  58  60  62  64  66  68  70  72  74  76  78  80  82  84  86  88  90  92  94  96  98 100\n",
      "SECTION 3b: Adjusting drainage directions.\n",
      "   0   2   4   6   8  10  12  14  16  18  20  22  24  26  28  30  32  34  36  38  40  42  44  46  48  50  52  54  56  58  60  62  64  66  68  70  72  74  76  78  80  82  84  86  88  90  92  94  96  98SECTION 4: Closing Maps.\n",
      "Closing accumulation map\n",
      "Writing out only positive flow accumulation values.\n",
      "Cells with a likely underestimate for flow accumulation can no longer be\n",
      "identified.\n",
      "   0   2   4   6   8  10  12  14  16  18  20  22  24  26  28  30  32  34  36  38  40  42  44  46  48  50  52  54  56  58  60  62  64  66  68  70  72  74  76  78  80  82  84  86  88  90  92  94  96  98 100\n",
      "Closing flow direction map\n",
      "   0   2   4   6   8  10  12  14  16  18  20  22  24  26  28  30  32  34  36  38  40  42  44  46  48  50  52  54  56  58  60  62  64  66  68  70  72  74  76  78  80  82  84  86  88  90  92  94  96  98Loading input raster maps...\n",
      "   0   3   6   9  12  15  18  21  24  27  30  33  36  39  42  45  48  51  54  57  60  63  66  69  72  75  78  81  84  87  90  93  96  99 100\n",
      "Initializing A* search...\n",
      "   0   3   6   9  12  15  18  21  24  27  30  33  36  39  42  45  48  51  54  57  60  63  66  69  72  75  78  81  84  87  90  93  96  99 100\n",
      "A* Search...\n",
      "   0   2   4   6   8  10  12  14  16  18  20  22  24  26  28  30  32  34  36  38  40  42  44  46  48  50  52  54  56  58  60  62  64  66  68  70  72  74  76  78  80  82  84  86  88  90  92  94  96  98 100\n",
      "Extracting streams...\n",
      "   0   2   4   6   8  10  12  14  16  18  20  22  24  26  28  30  32  34  36  38  40  42  44  46  48  50  52  54  56  58  60  62  64  66  68  70  72  74  76  78  80  82  84  86  88  90  92  94  96  98 100\n",
      "Thinning stream segments...\n",
      "   0  12  25  37  50  62  75  87 100\n",
      "Writing output raster maps...\n",
      "   0   3   6   9  12  15  18  21  24  27  30  33  36  39  42  45  48  51  54  57  60  63  66  69  72  75  78  81  84  87  90  93  96  99 100\n",
      "Scanning input for column types...\n",
      "Number of columns: 3\n",
      "Number of rows: 1\n",
      "Importing points...\n",
      "   0 100\n",
      "Populating table...\n",
      "Building topology for vector map\n",
      "<basin_param_elevation_outlet@PERMANENT>...\n",
      "Registering primitives...\n",
      "Reading raster map <basin_param_elevation_stream_e>...\n",
      "   0   3   6   9  12  15  18  21  24  27  30  33  36  39  42  45  48  51  54  57  60  63  66  69  72  75  78  81  84  87  90  93  96  99 100\n",
      "Building topology for vector map\n",
      "<basin_param_elevation_outlet_snap@PERMANENT>...\n",
      "Registering primitives...\n",
      "Reading features...\n",
      " 100\n",
      "Writing raster map...\n",
      "   0   3   6   9  12  15  18  21  24  27  30  33  36  39  42  45  48  51  54  57  60  63  66  69  72  75  78  81  84  87  90  93  96  99 100\n",
      "v.to.rast complete.\n",
      "Memory swap calculation (may take some time)...\n",
      "Reading raster map <basin_param_elevation_drainage_e>...\n",
      "   0   3   6   9  12  15  18  21  24  27  30  33  36  39  42  45  48  51  54  57  60  63  66  69  72  75  78  81  84  87  90  93  96  99 100\n",
      "Calculating basins using vector point map...\n",
      "Delineating basins for 1 outlets...\n",
      "   0 100\n",
      "Writing raster map <basin_param_elevation_basin>...\n",
      "   0   3   6   9  12  15  18  21  24  27  30  33  36  39  42  45  48  51  54  57  60  63  66  69  72  75  78  81  84  87  90  93  96  99 100\n",
      "Delineation of basin done\n",
      "Rename raster <tmp> to <basin_param_elevation_accumulation>\n",
      "Rename raster <tmp> to <basin_param_elevation_drainage>\n",
      "Rename raster <tmp> to <basin_param_elevation_drainage_e>\n",
      "Rename raster <tmp> to <basin_param_elevation_stream_e>\n",
      "Raster map <basin_param_elevation_stream_e> - 699 rows X 558 columns\n",
      "Bounding box: l = 113, r = 340, t = 26, b = 362\n",
      "Pass number 1\n",
      "Deleted 15 pixels\n",
      "Pass number 2\n",
      "Deleted 0 pixels\n",
      "Thinning completed successfully.\n",
      "Output map 699 rows X 558 columns\n",
      "Window 699 rows X 558 columns\n",
      "Extracting lines...\n",
      "   2   5   8  11  14  17  20  23  26  29  32  35  38  41  44  47  50  53  56  59  62  65  68  71  74  77  80  83  86  89  92  95  98 100\n",
      " 100\n",
      "Building topology for vector map\n",
      "<basin_param_elevation_network@PERMANENT>...\n",
      "Registering primitives...\n",
      "r.to.vect complete.\n",
      "   0   3   6   9  12  15  18  21  24  27  30  33  36  39  42  45  48  51  54  57  60  63  66  69  72  75  78  81  84  87  90  93  96  99 100\n",
      "Aspect raster map <basin_param_elevation_aspect> complete\n",
      "Slope raster map <basin_param_elevation_slope> complete\n",
      "Extracting areas...\n",
      "   0   3   6   9  12  15  18  21  24  27  30  33  36  39  42  45  48  51  54  57  60  63  66  69  72  75  78  81  84  87  90  93  96  99 100\n",
      "Writing areas...\n",
      "   0   4   8  12  16  20  24  28  32  36  40  44  48  52  56  60  64  68  72  76  80  84  88  92  96 100\n",
      "Updating attributes...\n",
      "   0 100\n",
      "Building topology for vector map <basin_param_elevation_basin@PERMANENT>...\n",
      "Registering primitives...\n",
      "Building areas...\n",
      "   0 100\n",
      "Attaching islands...\n",
      "   0 100\n",
      "Attaching centroids...\n",
      "   0 100\n",
      "r.to.vect complete.\n",
      "WARNING: Values in column <perimeter> will be overwritten\n",
      "Reading areas...\n",
      " 100\n",
      "Updating database...\n",
      "   0 100\n",
      "1 categories read from vector map (layer 1)\n",
      "1 records selected from table (layer 1)\n",
      "1 categories read from vector map exist in selection from table\n",
      "1 records updated/inserted (layer 1)\n",
      "Reading areas...\n",
      " 100\n",
      "WARNING: Values in column <area> will be overwritten\n",
      "Reading areas...\n",
      " 100\n",
      "Updating database...\n",
      "   0 100\n",
      "1 categories read from vector map (layer 1)\n",
      "1 records selected from table (layer 1)\n",
      "1 categories read from vector map exist in selection from table\n",
      "1 records updated/inserted (layer 1)\n",
      "Reading areas...\n",
      " 100\n",
      "Creating basin_param_elevation_hack\n",
      "Memory swap calculation (may take some time)...\n",
      "Reading raster map <basin_param_elevation_stream_e>...\n",
      "   0   3   6   9  12  15  18  21  24  27  30  33  36  39  42  45  48  51  54  57  60  63  66  69  72  75  78  81  84  87  90  93  96  99 100\n",
      "Reading raster map <basin_param_elevation_drainage_e>...\n",
      "   0   3   6   9  12  15  18  21  24  27  30  33  36  39  42  45  48  51  54  57  60  63  66  69  72  75  78  81  84  87  90  93  96  99 100\n",
      "Finding nodes...\n",
      "   0   3   6   9  12  15  18  21  24  27  30  33  36  39  42  45  48  51  54  57  60  63  66  69  72  75  78  81  84  87  90  93  96  99 100\n",
      "Finding longest streams...\n",
      "   0   3   6  10  13  16  20  23  26  30  33  36  40  43  46  50  53  56  60  63  66  70  73  76  80  83  86  90  93  96 100\n",
      "Calculating Strahler's stream order...\n",
      "Calculating Hortons's stream order...\n",
      "Calculating Shreve's stream magnitude, Scheidegger's consistent integer and\n",
      "Drwal's streams hierarchy (old style)...\n",
      "Calculating Hack's main streams and topological dimension...\n",
      "Calculating segments in direction <DOWNSTREAM> (may take some time)...\n",
      "Reading raster map <basin_param_elevation_r_outlet>...\n",
      "   0   3   6   9  12  15  18  21  24  27  30  33  36  39  42  45  48  51  54  57  60  63  66  69  72  75  78  81  84  87  90  93  96  99 100\n",
      "Reading raster map <basin_param_elevation_drainage_e>...\n",
      "   0   3   6   9  12  15  18  21  24  27  30  33  36  39  42  45  48  51  54  57  60  63  66  69  72  75  78  81  84  87  90  93  96  99 100\n",
      "Finding nodes...\n",
      "Calculate downstream parameters...\n",
      "   0 100\n",
      "Writing raster map <basin_param_elevation_dist2out>...\n",
      "   0   3   6   9  12  15  18  21  24  27  30  33  36  39  42  45  48  51  54  57  60  63  66  69  72  75  78  81  84  87  90  93  96  99 100\n",
      "------------------------------\n",
      "   0   3   6   9  12  15  18  21  24  27  30  33  36  39  42  45  48  51  54  57  60  63  66  69  72  75  78  81  84  87  90  93  96  99 100\n",
      "Gtk-Message: 22:40:06.897: Failed to load module \"atk-bridge\"\n",
      "Gtk-Message: 22:40:06.918: Failed to load module \"canberra-gtk-module\"\n"
     ]
    },
    {
     "name": "stdout",
     "output_type": "stream",
     "text": [
      "Tot. cells 34076.0\n",
      "===========================\n",
      "Hypsometric | quantiles\n",
      "===========================\n",
      "1122 | 0.025\n",
      "962 | 0.05\n",
      "766 | 0.1\n",
      "622 | 0.25\n",
      "419 | 0.5\n",
      "229 | 0.75\n",
      "186 | 0.9\n",
      "176 | 0.975\n",
      "\n",
      "\n",
      "Done!\n"
     ]
    },
    {
     "name": "stderr",
     "output_type": "stream",
     "text": [
      "------------------------------\n",
      "------------------------------\n",
      "   0   3   6   9  12  15  18  21  24  27  30  33  36  39  42  45  48  51  54  57  60  63  66  69  72  75  78  81  84  87  90  93  96  99 100\n",
      "Gtk-Message: 22:40:08.072: Failed to load module \"atk-bridge\"\n",
      "Gtk-Message: 22:40:08.074: Failed to load module \"canberra-gtk-module\"\n"
     ]
    },
    {
     "name": "stdout",
     "output_type": "stream",
     "text": [
      "Tot. cells 34076.0\n",
      "Tot. area 263223290.7052134\n",
      "Max distance 48721.780628\n",
      "===========================\n",
      "Width Function | quantiles\n",
      "===========================\n",
      "4946 | 0.05\n",
      "13646 | 0.15\n",
      "21509 | 0.3\n",
      "28104 | 0.4\n",
      "31618 | 0.5\n",
      "34673 | 0.6\n",
      "37616 | 0.7\n",
      "43179 | 0.85\n",
      "45632 | 0.95\n",
      "\n",
      "\n",
      "Done!\n"
     ]
    },
    {
     "name": "stderr",
     "output_type": "stream",
     "text": [
      "------------------------------\n",
      "Calculating segments in direction <DOWNSTREAM> (may take some time)...\n",
      "Reading raster map <basin_param_elevation_stream_e>...\n",
      "   0   3   6   9  12  15  18  21  24  27  30  33  36  39  42  45  48  51  54  57  60  63  66  69  72  75  78  81  84  87  90  93  96  99 100\n",
      "Reading raster map <basin_param_elevation_drainage>...\n",
      "   0   3   6   9  12  15  18  21  24  27  30  33  36  39  42  45  48  51  54  57  60  63  66  69  72  75  78  81  84  87  90  93  96  99 100\n",
      "Finding nodes...\n",
      "Reading raster map <r_elevation_crop>...\n",
      "   0   3   6   9  12  15  18  21  24  27  30  33  36  39  42  45  48  51  54  57  60  63  66  69  72  75  78  81  84  87  90  93  96  99 100\n",
      "Calculate downstream parameters...\n",
      "   0   2   5   8  11  14  17  20  22  25  28  31  34  37  40  42  45  48  51  54  57  60  62  65  68  71  74  77  80  82  85  88  91  94  97 100\n",
      "Writing raster map <basin_param_elevation_hillslope_distance>...\n",
      "   0   3   6   9  12  15  18  21  24  27  30  33  36  39  42  45  48  51  54  57  60  63  66  69  72  75  78  81  84  87  90  93  96  99 100\n",
      "First pass\n",
      "   0   3   6   9  12  15  18  21  24  27  30  33  36  39  42  45  48  51  54  57  60  63  66  69  72  75  78  81  84  87  90  93  96  99 100\n",
      "Writing output map\n",
      "   0   3   6   9  12  15  18  21  24  27  30  33  36  39  42  45  48  51  54  57  60  63  66  69  72  75  78  81  84  87  90  93  96  99 100\n",
      "r.stats.zonal done\n",
      "r.info done\n",
      "r.mapcalc done\n",
      "   0   3   6   9  12  15  18  21  24  27  30  33  36  39  42  45  48  51  54  57  60  63  66  69  72  75  78  81  84  87  90  93  96  99 100\n",
      "r.volume done\n",
      "g.region done\n",
      "Rectangle containing basin done\n",
      "Directing vector done\n",
      "Prevalent orientation done\n",
      "Compactness coefficient done\n",
      "Circularity ratio done\n",
      "Raster map <basin_param_elevation_mainchannel> - 363 rows X 264 columns\n",
      "Bounding box: l = 17, r = 219, t = 42, b = 362\n",
      "Pass number 1\n",
      "Deleted 1 pixel\n",
      "Pass number 2\n",
      "Deleted 0 pixels\n",
      "Thinning completed successfully.\n",
      "Output map 363 rows X 264 columns\n",
      "Window 363 rows X 264 columns\n",
      "Using native format\n",
      "Extracting lines...\n",
      "   2   5   8  11  14  17  20  23  26  29  32  35  38  41  44  47  50  53  56  59  62  65  68  71  74  77  80  83  86  89  92  95  98 100\n",
      " 100\n",
      "Building topology for vector map\n",
      "<basin_param_elevation_mainchannel@PERMANENT>...\n",
      "Registering primitives...\n",
      "One primitive registered\n",
      "214 vertices registered\n",
      "Topology was built\n",
      "Number of nodes: 2\n",
      "Number of primitives: 1\n",
      "Number of points: 0\n",
      "Number of lines: 1\n",
      "Number of boundaries: 0\n",
      "Number of centroids: 0\n",
      "Number of areas: 0\n",
      "Number of isles: 0\n",
      "r.to.vect complete.\n",
      "WARNING: Values in column <cat> will be overwritten\n",
      "Reading features...\n",
      "   0 100\n",
      "Updating database...\n",
      "   0 100\n",
      "1 categories read from vector map (layer 1)\n",
      "1 categories read from vector map don't exist in selection from table\n",
      "1 records updated/inserted (layer 1)\n",
      "WARNING: Values in column <x> will be overwritten\n",
      "WARNING: Values in column <y> will be overwritten\n",
      "Reading features...\n",
      "   0 100\n",
      "Updating database...\n",
      "   0 100\n",
      "1 categories read from vector map (layer 1)\n",
      "1 records selected from table (layer 1)\n",
      "1 categories read from vector map exist in selection from table\n",
      "1 records updated/inserted (layer 1)\n",
      "Fetching data...\n",
      "Raster map <basin_param_elevation_mainchannel_dim> - 363 rows X 264 columns\n",
      "Bounding box: l = 17, r = 219, t = 42, b = 362\n",
      "Pass number 1\n",
      "Deleted 1 pixel\n",
      "Pass number 2\n",
      "Deleted 0 pixels\n",
      "Thinning completed successfully.\n",
      "Output map 363 rows X 264 columns\n",
      "Window 363 rows X 264 columns\n",
      "Using native format\n",
      "Extracting lines...\n",
      "   2   5   8  11  14  17  20  23  26  29  32  35  38  41  44  47  50  53  56  59  62  65  68  71  74  77  80  83  86  89  92  95  98 100\n",
      " 100\n",
      "Updating attributes...\n",
      "   0   6  12  19  25  32  38  45  51  58  64  70  77  83  90  96 100\n",
      "Building topology for vector map\n",
      "<basin_param_elevation_mainchannel_dim@PERMANENT>...\n",
      "Registering primitives...\n",
      "50 primitives registered\n",
      "282 vertices registered\n",
      "Topology was built\n",
      "Number of nodes: 36\n",
      "Number of primitives: 50\n",
      "Number of points: 0\n",
      "Number of lines: 50\n",
      "Number of boundaries: 0\n",
      "Number of centroids: 0\n",
      "Number of areas: 0\n",
      "Number of isles: 0\n",
      "r.to.vect complete.\n",
      "doing v.to.points\n",
      "   2   6  10  14  18  22  26  30  34  38  42  46  50  54  58  62  66  70  74  78  82  86  90  94  98 100\n",
      "Building topology for vector map\n",
      "<basin_param_elevation_mainchannel_dim_point@PERMANENT>...\n",
      "Registering primitives...\n",
      "v.to.points complete. 535 points written to output vector map.\n",
      "First pass\n",
      "   0   3   6   9  12  15  18  21  24  27  30  33  36  39  42  45  48  51  54  57  60  63  66  69  72  75  78  81  84  87  90  93  96  99 100\n",
      "Writing output map\n",
      "   0   3   6   9  12  15  18  21  24  27  30  33  36  39  42  45  48  51  54  57  60  63  66  69  72  75  78  81  84  87  90  93  96  99 100\n",
      "Raster map <basin_param_elevation_ord_1> - 363 rows X 264 columns\n",
      "Bounding box: l = 17, r = 244, t = 26, b = 345\n",
      "Pass number 1\n",
      "Deleted 4 pixels\n",
      "Pass number 2\n",
      "Deleted 0 pixels\n",
      "Thinning completed successfully.\n",
      "Output map 363 rows X 264 columns\n",
      "Window 363 rows X 264 columns\n",
      "Extracting lines...\n",
      "   2   5   8  11  14  17  20  23  26  29  32  35  38  41  44  47  50  53  56  59  62  65  68  71  74  77  80  83  86  89  92  95  98 100\n",
      " 100\n",
      "Updating attributes...\n",
      "   0 100\n",
      "Building topology for vector map <basin_param_elevation_ord_1@PERMANENT>...\n",
      "Registering primitives...\n",
      "r.to.vect complete.\n",
      "All in RAM calculation...\n",
      "ERROR: Region resolution and raster map <basin_param_elevation_strahler>\n",
      "       resolution differs. Run 'g.region\n",
      "       raster=basin_param_elevation_strahler' to set proper region\n",
      "       resolution.\n",
      "\n",
      "------------------------------\n",
      "\n",
      "An ERROR occurred running r.basin\n",
      "Please check for error messages above or try with another pairs of outlet\n",
      "coordinates\n",
      "Removing region definition <original>\n"
     ]
    },
    {
     "data": {
      "text/plain": [
       "0"
      ]
     },
     "execution_count": 52,
     "metadata": {},
     "output_type": "execute_result"
    }
   ],
   "source": [
    "# Calculates a bunch of advanced morphological parameters of river basin\n",
    "gs.run_command('r.basin',\n",
    "               map = 'elevation',\n",
    "               #flags=\"c\",\n",
    "               prefix = 'basin_param', # output prefix\n",
    "               coord = (\"490282.15625,1966838\"), # east,north of the outlet point\n",
    "               dir = '/home/shirobakaidou/eagle/MET_Spatial_Python/output', # Directory of the output\n",
    "               threshold = th,\n",
    "               overwrite=True)"
   ]
  }
 ],
 "metadata": {
  "kernelspec": {
   "display_name": "Python 3 (Spyder)",
   "language": "python3",
   "name": "python3"
  },
  "language_info": {
   "codemirror_mode": {
    "name": "ipython",
    "version": 3
   },
   "file_extension": ".py",
   "mimetype": "text/x-python",
   "name": "python",
   "nbconvert_exporter": "python",
   "pygments_lexer": "ipython3",
   "version": "3.7.8"
  }
 },
 "nbformat": 4,
 "nbformat_minor": 4
}
